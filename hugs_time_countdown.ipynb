{
 "cells": [
  {
   "cell_type": "code",
   "execution_count": null,
   "metadata": {},
   "outputs": [
    {
     "name": "stdout",
     "output_type": "stream",
     "text": [
      "278465467\n"
     ]
    }
   ],
   "source": [
    "from IPython.display import clear_output\n",
    "from time import sleep\n",
    "from datetime import datetime\n",
    "\n",
    "hugs_time = datetime(year=2021,\n",
    "                     month=8,\n",
    "                     day=9,\n",
    "                     hour=16,\n",
    "                     minute=30)\n",
    "now = datetime.now()\n",
    "while now < hugs_time:\n",
    "    print(int((hugs_time - now).total_seconds() * 1000))\n",
    "    sleep(0.01)\n",
    "    now = datetime.now()\n",
    "    clear_output(True)"
   ]
  },
  {
   "cell_type": "code",
   "execution_count": null,
   "metadata": {},
   "outputs": [],
   "source": []
  }
 ],
 "metadata": {
  "kernelspec": {
   "display_name": "Python 3",
   "language": "python",
   "name": "python3"
  },
  "language_info": {
   "codemirror_mode": {
    "name": "ipython",
    "version": 3
   },
   "file_extension": ".py",
   "mimetype": "text/x-python",
   "name": "python",
   "nbconvert_exporter": "python",
   "pygments_lexer": "ipython3",
   "version": "3.8.5"
  }
 },
 "nbformat": 4,
 "nbformat_minor": 4
}
